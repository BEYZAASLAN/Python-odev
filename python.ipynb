# Gerekli kütüphaneleri yükle
import pandas as pd
import seaborn as sns
import matplotlib.pyplot as plt
# Veritabanını oku
veritabani = pd.read_csv('productpriceindex.csv')
