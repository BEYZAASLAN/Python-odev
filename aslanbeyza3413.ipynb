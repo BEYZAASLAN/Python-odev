# Gerekli kütüphaneleri yükle
import pandas as pd
import seaborn as sns
import matplotlib.pyplot as plt

# Veritabanını oku
veritabani = pd.read_csv('productpriceindex.csv')
# Veritabanındaki başlıkların isimlerini tanımlıyoruz
productname = veritabani.columns[0]
date = veritabani.columns[1]
farmprice = veritabani.columns[2]
atlantaretail = veritabani.columns[3]
chicagoretail = veritabani.columns[4]
losangelesretail = veritabani.columns[5]
newyorkretail = veritabani.columns[6]
averagespread = veritabani.columns[7]

# '$' işaretini temizleme, boşlukları temizleme ve sayısal formata çevirme
veritabani[farmprice] = veritabani[farmprice].str.replace('[\$,]', '').str.strip()
veritabani[atlantaretail] = veritabani[atlantaretail].str.replace('[\$,]', '').str.strip()
veritabani[chicagoretail] = veritabani[chicagoretail].str.replace('[\$,]', '').str.strip()
veritabani[losangelesretail] = veritabani[losangelesretail].str.replace('[\$,]', '').str.strip()
veritabani[newyorkretail] = veritabani[newyorkretail].str.replace('[\$,]', '').str.strip()

# Boşluk karakterlerini NaN ile değiştirme
veritabani.replace('', pd.NA, inplace=True)

# Sayısal formata çevirme
veritabani[farmprice] = pd.to_numeric(veritabani[farmprice], errors='coerce')
veritabani[atlantaretail] = pd.to_numeric(veritabani[atlantaretail], errors='coerce')
veritabani[chicagoretail] = pd.to_numeric(veritabani[chicagoretail], errors='coerce')
veritabani[losangelesretail] = pd.to_numeric(veritabani[losangelesretail], errors='coerce')
veritabani[newyorkretail] = pd.to_numeric(veritabani[newyorkretail], errors='coerce')

# Tarih olduğunu belirtme
veritabani[date] = pd.to_datetime(veritabani[date])
# Yüzde değerini sayıya çevirme

veritabani['averagespread'] = veritabani['averagespread'].replace('[\%,]', '', regex=True).astype('float')
# Veritabanı hakkında bilgiler
print("Veri Tabanı İnceleme:")
print(veritabani.info())
# Veritabanı hakkında bilgiler
print("Veri Tabanı İnceleme:")
print(veritabani.info())
# Kaç adet veri olduğunu bulma
print("\nToplam Veri Sayısı:", len(veritabani))
# Eksik verileri kontrol etme
print("\nEksik Veri Kontrolü:")
print(veritabani.isnull().sum())
# Eksik verileri doldurma (örnek olarak ortalama ile dolduruldu)
veritabani.fillna(veritabani.mean(), inplace=True)
# Sorgular ve görselleştirmeler

# 1. Ürün kategorilerinin dağılımı
sns.countplot(x=productname, data=veritabani)
plt.xticks(rotation=-90)
plt.title('Ürün Kategorilerinin Dağılımı')
plt.show()
# 2. Ürünlerin ortalama spread oranları
sns.barplot(x=productname, y=averagespread, data=veritabani)
plt.title('Ürünlerin Ortalama Spread Oranları')
plt.xticks(rotation=45, ha='right')
plt.show()
# 3. En yüksek spread oranına sahip ürün
max_spread_product = veritabani.loc[veritabani[averagespread].idxmax()]
print("\nEn Yüksek Spread Oranına Sahip Ürün:")
print(max_spread_product)
# 4. Ürün fiyat endekslerinin korelasyon matrisi
correlation_matrix = veritabani[[farmprice, atlantaretail, chicagoretail, losangelesretail, newyorkretail]].corr()
sns.heatmap(correlation_matrix, annot=True, cmap='coolwarm')
plt.title('Fiyat Endekslerinin Korelasyon Matrisi')
plt.show()
# 5. Fiyat endekslerinin ortalama değerleri
avg_prices = veritabani[[farmprice, atlantaretail, chicagoretail, losangelesretail, newyorkretail]].mean()
avg_prices.plot(kind='bar', color='skyblue')
plt.title('Fiyat Endekslerinin Ortalama Değerleri')
plt.show()
# 6. Ürün fiyat endeksleri ile ortalama spread arasındaki korelasyon
sns.scatterplot(x=farmprice, y=averagespread, data=veritabani)
plt.title('Ürün Fiyat Endeksi ile Ortalama Spread Korelasyonu')
plt.show()
# 7. En yüksek spread oranına sahip şehir
max_spread_city = veritabani[[atlantaretail, chicagoretail, losangelesretail, newyorkretail]].mean().idxmax()
print("\nEn Yüksek Spread Oranına Sahip Şehir:")
print(max_spread_city)
# 8. Fiyat endekslerinin zaman içindeki değişimi
veritabani[date] = pd.to_datetime(veritabani[date])
sns.lineplot(x=date, y=farmprice, data=veritabani, label='Farm Price')
sns.lineplot(x=date, y=atlantaretail, data=veritabani, label='Atlanta Retail')
sns.lineplot(x=date, y=chicagoretail, data=veritabani, label='Chicago Retail')
sns.lineplot(x=date, y=losangelesretail, data=veritabani, label='Los Angeles Retail')
sns.lineplot(x=date, y=newyorkretail, data=veritabani, label='New York Retail')
plt.title('Fiyat Endekslerinin Zaman İçindeki Değişimi')
plt.show()
# 9. Spread oranının zaman içindeki değişimi
sns.lineplot(x=date, y=averagespread, data=veritabani)
plt.title('Ortalama Spread Oranının Zaman İçindeki Değişimi')
plt.show()
# 10. En düşük spread oranına sahip ürün
min_spread_product = veritabani.loc[veritabani[averagespread].idxmin()]
print("\nEn Düşük Spread Oranına Sahip Ürün:")
print(min_spread_product)
# 11. Ürün fiyatlarının kutu grafiği
sns.boxplot(x=productname, y=farmprice, data=veritabani)
plt.title('Ürün Fiyatlarının Kutu Grafiği')
plt.xticks(rotation=-90, ha='right')
plt.show()
# 12. Şehirlerin ortalama fiyat endeksleri
avg_city_prices = veritabani[[atlantaretail, chicagoretail, losangelesretail, newyorkretail]].mean()
avg_city_prices.plot(kind='bar', color='green')
plt.title('Şehirlerin Ortalama Fiyat Endeksleri')
plt.show()
# 13. Şehirlerdeki ürünlerin fiyat endekslerinin karşılaştırılması
sns.lineplot(x=date, y=atlantaretail, data=veritabani, label='Atlanta Retail')
sns.lineplot(x=date, y=chicagoretail, data=veritabani, label='Chicago Retail')
sns.lineplot(x=date, y=losangelesretail, data=veritabani, label='Los Angeles Retail')
sns.lineplot(x=date, y=newyorkretail, data=veritabani, label='New York Retail')
plt.title('Şehirlerdeki Ürün Fiyat Endekslerinin Karşılaştırılması')
plt.show()
# 14. Ürünlerin ortalama spread oranları histogramı
sns.histplot(veritabani[averagespread], bins=20, kde=True, color='purple')
plt.title('Ürünlerin Ortalama Spread Oranları Histogramı')
plt.show()
# 15. Ürün fiyat endeksleri ile ortalama spread arasındaki ilişkiyi gösteren scatter plot
sns.scatterplot(x=farmprice, y=averagespread, data=veritabani)
plt.title('Ürün Fiyat Endeksi ile Ortalama Spread İlişkisi')
plt.show()
# 16. Fiyat endekslerinin kutu grafiği
sns.boxplot(data=veritabani[[farmprice, atlantaretail, chicagoretail, losangelesretail, newyorkretail]])
plt.title('Fiyat Endekslerinin Kutu Grafiği')
plt.xticks(rotation=45, ha='right')
plt.show()
# 17. Fiyat endekslerinin violin grafiği
sns.violinplot(data=veritabani[[farmprice, atlantaretail, chicagoretail, losangelesretail, newyorkretail]])
plt.title('Fiyat Endekslerinin Violin Grafiği')
plt.show()

